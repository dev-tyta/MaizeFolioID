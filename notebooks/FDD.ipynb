{
 "nbformat": 4,
 "nbformat_minor": 0,
 "metadata": {
  "colab": {
   "provenance": [],
   "gpuType": "T4"
  },
  "kernelspec": {
   "name": "python3",
   "language": "python",
   "display_name": "Python 3 (ipykernel)"
  },
  "language_info": {
   "name": "python"
  },
  "accelerator": "GPU"
 },
 "cells": [
  {
   "cell_type": "markdown",
   "source": [
    "**Downloading Dataset**"
   ],
   "metadata": {
    "id": "KdanBfPgCQlg"
   }
  },
  {
   "cell_type": "code",
   "source": [
    "# !pip install kaggle\n",
    "# !mkdir /root/.kaggle\n",
    "# !chmod 600 /root/.kaggle/kaggle.json\n"
   ],
   "metadata": {
    "colab": {
     "base_uri": "https://localhost:8080/"
    },
    "id": "8rfkjsk2DSwl",
    "outputId": "8f53df54-8355-4080-b997-1aff2e8412cf",
    "ExecuteTime": {
     "start_time": "2023-08-14T18:56:40.053663Z",
     "end_time": "2023-08-14T18:56:40.861351Z"
    }
   },
   "execution_count": 1,
   "outputs": []
  },
  {
   "cell_type": "code",
   "source": [
    "# from google.colab import drive"
   ],
   "metadata": {
    "id": "zmNZ4RGACGOS",
    "ExecuteTime": {
     "start_time": "2023-08-13T01:37:54.364495Z",
     "end_time": "2023-08-13T01:38:01.018720Z"
    },
    "pycharm": {
     "is_executing": true
    }
   },
   "execution_count": null,
   "outputs": []
  },
  {
   "cell_type": "code",
   "source": [
    "# drive.mount(\"./drive\")"
   ],
   "metadata": {
    "id": "8AWOFfB1CfWT",
    "ExecuteTime": {
     "start_time": "2023-08-13T01:38:00.725728Z",
     "end_time": "2023-08-13T01:38:01.020723Z"
    },
    "pycharm": {
     "is_executing": true
    }
   },
   "execution_count": null,
   "outputs": []
  },
  {
   "cell_type": "code",
   "source": [
    "# !cd \"./drive/MyDrive/FDD Project/dataset\""
   ],
   "metadata": {
    "id": "3sdze-ybDAml",
    "ExecuteTime": {
     "start_time": "2023-08-13T01:38:10.529361Z",
     "end_time": "2023-08-13T01:38:10.679365Z"
    }
   },
   "execution_count": 4,
   "outputs": []
  },
  {
   "cell_type": "code",
   "source": [
    "\n",
    "# !kaggle datasets download -d smaranjitghose/corn-or-maize-leaf-disease-dataset"
   ],
   "metadata": {
    "id": "f6NAkOEODKwI",
    "ExecuteTime": {
     "start_time": "2023-08-13T01:38:21.836843Z",
     "end_time": "2023-08-13T01:38:36.913194Z"
    }
   },
   "execution_count": 5,
   "outputs": []
  },
  {
   "cell_type": "code",
   "source": [
    "# !unzip \"/content/drive/MyDrive/FDD Project/dataset/corn-or-maize-leaf-disease-dataset.zip\""
   ],
   "metadata": {
    "id": "XZ4rnS03EUSr",
    "ExecuteTime": {
     "start_time": "2023-08-13T01:38:23.228273Z",
     "end_time": "2023-08-13T01:38:37.037187Z"
    }
   },
   "execution_count": 6,
   "outputs": []
  },
  {
   "cell_type": "markdown",
   "source": [
    "**Importing LIbraries**"
   ],
   "metadata": {
    "id": "vIOOqvX4CD_y"
   }
  },
  {
   "cell_type": "code",
   "source": [
    "# !pip install split-folders\n",
    "# ! pip install python_splitter"
   ],
   "metadata": {
    "colab": {
     "base_uri": "https://localhost:8080/"
    },
    "id": "FbKQFSn1F0Mm",
    "outputId": "b2975a4e-a468-47eb-dbb9-80fa8b78fdbf",
    "ExecuteTime": {
     "start_time": "2023-08-13T01:38:53.455267Z",
     "end_time": "2023-08-13T01:38:55.512292Z"
    },
    "pycharm": {
     "is_executing": true
    }
   },
   "execution_count": null,
   "outputs": []
  },
  {
   "cell_type": "code",
   "execution_count": 4,
   "metadata": {
    "id": "VfGvbwhFAzRh",
    "ExecuteTime": {
     "start_time": "2023-08-14T19:50:20.107204Z",
     "end_time": "2023-08-14T20:22:03.619024Z"
    }
   },
   "outputs": [],
   "source": [
    "import tensorflow as tf\n",
    "import numpy as np\n",
    "import splitfolders\n",
    "from tensorflow.keras.applications.vgg16 import VGG16,preprocess_input\n",
    "from tensorflow.keras.preprocessing import image\n",
    "from tensorflow.keras import layers, models, losses\n",
    "from tensorflow.keras.preprocessing.image import ImageDataGenerator"
   ]
  },
  {
   "cell_type": "markdown",
   "source": [
    "**Preprocessing Data**"
   ],
   "metadata": {
    "id": "lscwnp3IGaRG"
   }
  },
  {
   "cell_type": "code",
   "source": [
    "# splitfolders.ratio(\"./data\",\n",
    "#                    output=\"./corn\",\n",
    "#                    seed=42,\n",
    "#                    ratio=(.8, .0, .2)\n",
    "#                    )"
   ],
   "metadata": {
    "id": "7-P_zPy6GZWl",
    "ExecuteTime": {
     "start_time": "2023-08-14T20:22:03.061315Z",
     "end_time": "2023-08-14T20:22:04.761781Z"
    }
   },
   "execution_count": 5,
   "outputs": []
  },
  {
   "cell_type": "code",
   "source": [
    "train_dir = \"./corn/train\"\n",
    "test_dir = \"/corn/test\""
   ],
   "metadata": {
    "id": "zV_bW8afHiHi",
    "ExecuteTime": {
     "start_time": "2023-08-14T19:13:14.177113Z",
     "end_time": "2023-08-14T19:13:14.178112Z"
    }
   },
   "execution_count": 3,
   "outputs": []
  },
  {
   "cell_type": "code",
   "source": [
    "gen = ImageDataGenerator(rescale=1./255,\n",
    "                         validation_split=0.2,\n",
    "                         shear_range=0.2,\n",
    "                         zoom_range=0.2,\n",
    "                         horizontal_flip=True,\n",
    "                         width_shift_range=0.2,\n",
    "                         height_shift_range=0.3,\n",
    "                         rotation_range=20,\n",
    "                         fill_mode=\"nearest\")"
   ],
   "metadata": {
    "id": "0EEhbWHvHfFR",
    "ExecuteTime": {
     "start_time": "2023-08-14T19:13:14.180118Z",
     "end_time": "2023-08-14T19:13:14.295841Z"
    }
   },
   "execution_count": 4,
   "outputs": []
  },
  {
   "cell_type": "code",
   "source": [
    "train_generator= gen.flow_from_directory(\n",
    "    train_dir,\n",
    "    target_size=(224,224),\n",
    "    class_mode = \"categorical\",\n",
    "    subset=\"training\"\n",
    ")\n"
   ],
   "metadata": {
    "colab": {
     "base_uri": "https://localhost:8080/"
    },
    "id": "2E7ytKw_He89",
    "outputId": "1c4ca8b5-f2df-42f2-965a-247c746a5e1f",
    "ExecuteTime": {
     "start_time": "2023-08-14T19:13:14.262839Z",
     "end_time": "2023-08-14T19:13:48.309423Z"
    }
   },
   "execution_count": 5,
   "outputs": [
    {
     "name": "stdout",
     "output_type": "stream",
     "text": [
      "Found 2681 images belonging to 4 classes.\n"
     ]
    }
   ]
  },
  {
   "cell_type": "code",
   "source": [
    "val_generator = gen.flow_from_directory(\n",
    "    train_dir,\n",
    "    target_size=(224, 224),\n",
    "    class_mode= \"categorical\",\n",
    "    subset=\"validation\"\n",
    ")"
   ],
   "metadata": {
    "colab": {
     "base_uri": "https://localhost:8080/"
    },
    "id": "Qf55y0HLHe2J",
    "outputId": "81680fb8-92d7-45d3-bc23-555ed1618339",
    "ExecuteTime": {
     "start_time": "2023-08-14T19:13:48.308422Z",
     "end_time": "2023-08-14T19:13:50.999131Z"
    }
   },
   "execution_count": 6,
   "outputs": [
    {
     "name": "stdout",
     "output_type": "stream",
     "text": [
      "Found 667 images belonging to 4 classes.\n"
     ]
    }
   ]
  },
  {
   "cell_type": "markdown",
   "source": [
    "**Model Building**"
   ],
   "metadata": {
    "id": "xPvJodLJG8b3"
   }
  },
  {
   "cell_type": "code",
   "source": [
    "base_model = VGG16(weights=\"imagenet\", include_top=None)\n",
    "base_model.trainable = False"
   ],
   "metadata": {
    "id": "ofXo-Ev7CC-9",
    "ExecuteTime": {
     "start_time": "2023-08-14T19:13:50.945132Z",
     "end_time": "2023-08-14T19:15:31.641484Z"
    }
   },
   "execution_count": 7,
   "outputs": []
  },
  {
   "cell_type": "code",
   "source": [
    "inputs = tf.keras.layers.Input(shape = (224,224,3), name= \"input_layer\")\n",
    "x = base_model(inputs)\n",
    "print(x.shape)\n",
    "x = layers.Dense(1024, activation=\"relu\", name=\"dense_1\")(x)\n",
    "x = layers.MaxPool2D((2,2), name= \"max_pool_layer\")(x)\n",
    "x= layers.Dense(256, activation=\"relu\", name=\"dense_2\")(x)\n",
    "prediction = layers.Dense(4, activation= \"softmax\", name=\"output_layer\")(x)"
   ],
   "metadata": {
    "id": "cJY2eqG3PE9N",
    "colab": {
     "base_uri": "https://localhost:8080/"
    },
    "outputId": "a5308cab-c0fb-482a-afe5-a15127281687",
    "ExecuteTime": {
     "start_time": "2023-08-14T19:15:31.645486Z",
     "end_time": "2023-08-14T19:15:38.303872Z"
    }
   },
   "execution_count": 3,
   "outputs": [
    {
     "ename": "NameError",
     "evalue": "name 'tf' is not defined",
     "output_type": "error",
     "traceback": [
      "\u001B[1;31m---------------------------------------------------------------------------\u001B[0m",
      "\u001B[1;31mNameError\u001B[0m                                 Traceback (most recent call last)",
      "Input \u001B[1;32mIn [3]\u001B[0m, in \u001B[0;36m<cell line: 1>\u001B[1;34m()\u001B[0m\n\u001B[1;32m----> 1\u001B[0m inputs \u001B[38;5;241m=\u001B[39m \u001B[43mtf\u001B[49m\u001B[38;5;241m.\u001B[39mkeras\u001B[38;5;241m.\u001B[39mlayers\u001B[38;5;241m.\u001B[39mInput(shape \u001B[38;5;241m=\u001B[39m (\u001B[38;5;241m224\u001B[39m,\u001B[38;5;241m224\u001B[39m,\u001B[38;5;241m3\u001B[39m), name\u001B[38;5;241m=\u001B[39m \u001B[38;5;124m\"\u001B[39m\u001B[38;5;124minput_layer\u001B[39m\u001B[38;5;124m\"\u001B[39m)\n\u001B[0;32m      2\u001B[0m x \u001B[38;5;241m=\u001B[39m base_model(inputs)\n\u001B[0;32m      3\u001B[0m \u001B[38;5;28mprint\u001B[39m(x\u001B[38;5;241m.\u001B[39mshape)\n",
      "\u001B[1;31mNameError\u001B[0m: name 'tf' is not defined"
     ]
    }
   ]
  },
  {
   "cell_type": "code",
   "source": [
    "model = models.Model(inputs, outputs=prediction)"
   ],
   "metadata": {
    "id": "ri8cs8y7DUxB",
    "ExecuteTime": {
     "start_time": "2023-08-14T19:15:38.309870Z",
     "end_time": "2023-08-14T19:15:38.359862Z"
    }
   },
   "execution_count": 9,
   "outputs": []
  },
  {
   "cell_type": "code",
   "source": [
    "model.summary()"
   ],
   "metadata": {
    "colab": {
     "base_uri": "https://localhost:8080/"
    },
    "id": "q683qt7QTHe2",
    "outputId": "34dc245a-e978-4180-f72c-9ea4875171bd",
    "ExecuteTime": {
     "start_time": "2023-08-14T19:15:38.368864Z",
     "end_time": "2023-08-14T19:15:39.895686Z"
    }
   },
   "execution_count": 10,
   "outputs": [
    {
     "name": "stdout",
     "output_type": "stream",
     "text": [
      "Model: \"model\"\n",
      "_________________________________________________________________\n",
      " Layer (type)                Output Shape              Param #   \n",
      "=================================================================\n",
      " input_layer (InputLayer)    [(None, 224, 224, 3)]     0         \n",
      "                                                                 \n",
      " vgg16 (Functional)          (None, None, None, 512)   14714688  \n",
      "                                                                 \n",
      " dense_1 (Dense)             (None, 7, 7, 1024)        525312    \n",
      "                                                                 \n",
      " max_pool_layer (MaxPooling  (None, 3, 3, 1024)        0         \n",
      " 2D)                                                             \n",
      "                                                                 \n",
      " dense_2 (Dense)             (None, 3, 3, 256)         262400    \n",
      "                                                                 \n",
      " output_layer (Dense)        (None, 3, 3, 4)           1028      \n",
      "                                                                 \n",
      "=================================================================\n",
      "Total params: 15503428 (59.14 MB)\n",
      "Trainable params: 788740 (3.01 MB)\n",
      "Non-trainable params: 14714688 (56.13 MB)\n",
      "_________________________________________________________________\n"
     ]
    }
   ]
  },
  {
   "cell_type": "code",
   "source": [
    "model.compile(optimizer= tf.keras.optimizers.Adam(),\n",
    "              loss= losses.SparseCategoricalCrossentropy(),\n",
    "              metrics=[\"accuracy\"]\n",
    "              )"
   ],
   "metadata": {
    "id": "XUPLqyOdTHPX",
    "ExecuteTime": {
     "start_time": "2023-08-14T19:15:39.553695Z",
     "end_time": "2023-08-14T19:15:41.641290Z"
    }
   },
   "execution_count": 11,
   "outputs": []
  },
  {
   "cell_type": "code",
   "source": [
    "history = model.fit(train_generator,\n",
    "                    batch_size=len(train_generator),\n",
    "                    epochs=50,\n",
    "                    validation_data=val_generator,\n",
    "                    validation_steps=int(0.25 * len(val_generator))\n",
    "                    )"
   ],
   "metadata": {
    "id": "JN0dPP5OTG8S",
    "colab": {
     "base_uri": "https://localhost:8080/",
     "height": 1000
    },
    "outputId": "d4caf78f-e07f-4d03-af6d-a4b905fe3e71"
   },
   "execution_count": 2,
   "outputs": [
    {
     "ename": "NameError",
     "evalue": "name 'model' is not defined",
     "output_type": "error",
     "traceback": [
      "\u001B[1;31m---------------------------------------------------------------------------\u001B[0m",
      "\u001B[1;31mNameError\u001B[0m                                 Traceback (most recent call last)",
      "Input \u001B[1;32mIn [2]\u001B[0m, in \u001B[0;36m<cell line: 1>\u001B[1;34m()\u001B[0m\n\u001B[1;32m----> 1\u001B[0m history \u001B[38;5;241m=\u001B[39m \u001B[43mmodel\u001B[49m\u001B[38;5;241m.\u001B[39mfit(train_generator,\n\u001B[0;32m      2\u001B[0m                     batch_size\u001B[38;5;241m=\u001B[39m\u001B[38;5;28mlen\u001B[39m(train_generator),\n\u001B[0;32m      3\u001B[0m                     epochs\u001B[38;5;241m=\u001B[39m\u001B[38;5;241m50\u001B[39m,\n\u001B[0;32m      4\u001B[0m                     validation_data\u001B[38;5;241m=\u001B[39mval_generator,\n\u001B[0;32m      5\u001B[0m                     validation_steps\u001B[38;5;241m=\u001B[39m\u001B[38;5;28mint\u001B[39m(\u001B[38;5;241m0.25\u001B[39m \u001B[38;5;241m*\u001B[39m \u001B[38;5;28mlen\u001B[39m(val_generator))\n\u001B[0;32m      6\u001B[0m                     )\n",
      "\u001B[1;31mNameError\u001B[0m: name 'model' is not defined"
     ]
    }
   ]
  },
  {
   "cell_type": "code",
   "execution_count": null,
   "outputs": [],
   "source": [
    "\n"
   ],
   "metadata": {
    "collapsed": false,
    "ExecuteTime": {
     "start_time": "2023-08-14T19:41:11.643949Z",
     "end_time": "2023-08-14T19:41:14.586599Z"
    }
   }
  },
  {
   "cell_type": "code",
   "source": [
    "img_path= \"/content/lap.jpg\"\n",
    "img = image.load_img(img_path, target_size= (224, 224))\n",
    "x = image.img_to_array(img)\n",
    "x = np.expand_dims(x, axis=0)\n",
    "x = preprocess_input(x)"
   ],
   "metadata": {
    "id": "6wObylY2DzBk"
   },
   "execution_count": null,
   "outputs": []
  },
  {
   "cell_type": "code",
   "source": [
    "features= model.predict(x)"
   ],
   "metadata": {
    "id": "xkXbfBQOFBUJ"
   },
   "execution_count": null,
   "outputs": []
  },
  {
   "cell_type": "code",
   "source": [],
   "metadata": {
    "id": "fS0pTRlIFGzd"
   },
   "execution_count": null,
   "outputs": []
  },
  {
   "cell_type": "code",
   "source": [],
   "metadata": {
    "id": "6_Hea8zdFLwJ"
   },
   "execution_count": null,
   "outputs": []
  }
 ]
}
